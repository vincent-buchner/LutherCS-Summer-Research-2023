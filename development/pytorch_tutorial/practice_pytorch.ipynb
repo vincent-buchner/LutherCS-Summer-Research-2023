{
 "cells": [
  {
   "attachments": {},
   "cell_type": "markdown",
   "metadata": {},
   "source": [
    "# PyTorch Tutorial\n",
    "Video by AssemblyAI (Link: https://www.youtube.com/watch?v=OIenNRt2bjg&t=1s)\n",
    "<br><br>\n",
    "Coded and Documented by <u>Vincent Buchner</u>"
   ]
  },
  {
   "attachments": {},
   "cell_type": "markdown",
   "metadata": {},
   "source": [
    "### Chapter One: Tensors\n",
    "\n",
    "- Imagine you have a bunch of toys. Each toy has a different shape, like a ball, a car, or a teddy bear. Now, let's say you want to organize these toys in a special way.\n",
    "\n",
    "- In PyTorch, a tensor is like a special container for these toys. It can hold different kinds of data, just like our toys can have different shapes. Tensors can hold numbers, like 1, 2, 3, or even pictures or words.\n",
    "\n",
    "- Now, imagine you have a big box, and inside that box, you have smaller boxes. Each smaller box can hold a different toy. In PyTorch, a tensor can be like this big box, and the smaller boxes inside it are called dimensions.\n",
    "\n",
    "- For example, if we have a tensor of shape (2, 3), it means we have a big box with two rows and three columns. Each box inside this big box can hold a toy, which can be a number or something else.\n",
    "\n",
    "- You can do different things with tensors. You can add them together, just like you can put two toys together. You can also multiply tensors, just like you can make more toys by multiplying them.\n",
    "\n",
    "- So, in PyTorch, tensors are like containers that can hold different kinds of data, and they help us organize and manipulate that data."
   ]
  },
  {
   "cell_type": "code",
   "execution_count": 2,
   "metadata": {},
   "outputs": [
    {
     "name": "stdout",
     "output_type": "stream",
     "text": [
      "empty(1): tensor([6.6280e-10]) \n",
      "\n",
      "empty(3): tensor([6.6280e-10, 1.0653e-38, 5.9694e-39]) \n",
      "\n",
      "empty(2,3): tensor([[-2.0000e+00,  1.3161e-01, -0.0000e+00],\n",
      "        [ 3.3617e-05,  0.0000e+00,  3.0577e-05]]) \n",
      "\n",
      "empty(2, 2, 3): tensor([[[0., 0., 0.],\n",
      "         [0., 0., 0.]],\n",
      "\n",
      "        [[0., 0., 0.],\n",
      "         [0., 0., 0.]]]) \n",
      "\n",
      "rand(5,3): tensor([[0.1626, 0.1338, 0.1453],\n",
      "        [0.1379, 0.4493, 0.8924],\n",
      "        [0.8881, 0.5514, 0.0460],\n",
      "        [0.0760, 0.2868, 0.8894],\n",
      "        [0.7915, 0.5753, 0.0561]]) \n",
      "\n",
      "zeros(5,3): tensor([[0., 0., 0.],\n",
      "        [0., 0., 0.],\n",
      "        [0., 0., 0.],\n",
      "        [0., 0., 0.],\n",
      "        [0., 0., 0.]]) \n",
      "\n"
     ]
    }
   ],
   "source": [
    "import torch\n",
    "\n",
    "# torch.empty(size): uninitiallized\n",
    "x = torch.empty(1) # scalar\n",
    "print(\"empty(1):\", x, \"\\n\")\n",
    "\n",
    "x = torch.empty(3) # vector\n",
    "print(\"empty(3):\",x, \"\\n\")\n",
    "\n",
    "x = torch.empty(2, 3) # matrix\n",
    "print(\"empty(2,3):\",x, \"\\n\")\n",
    "\n",
    "x = torch.empty(2, 2, 3) # tensor, 3 dimensions\n",
    "#x = torch.empty(2,2,2,3) # tensor, 4 dimensions\n",
    "print(\"empty(2, 2, 3):\",x, \"\\n\")\n",
    "\n",
    "# torch.rand(size): random numbers [0, 1]\n",
    "x = torch.rand(5, 3)\n",
    "print(\"rand(5,3):\", x, \"\\n\")\n",
    "\n",
    "# torch.zeros(size), fill with 0\n",
    "# torch.ones(size), fill with 1\n",
    "x = torch.zeros(5, 3)\n",
    "print(\"zeros(5,3):\", x, \"\\n\")"
   ]
  },
  {
   "cell_type": "code",
   "execution_count": 3,
   "metadata": {},
   "outputs": [
    {
     "name": "stdout",
     "output_type": "stream",
     "text": [
      "size torch.Size([5, 3])\n",
      "shape torch.Size([5, 3])\n"
     ]
    }
   ],
   "source": [
    "# check size\n",
    "print(\"size\", x.size())  # x.size(0)\n",
    "print(\"shape\", x.shape)  # x.shape[0]"
   ]
  },
  {
   "cell_type": "code",
   "execution_count": 4,
   "metadata": {},
   "outputs": [
    {
     "name": "stdout",
     "output_type": "stream",
     "text": [
      "torch.float32\n",
      "tensor([[0., 0., 0.],\n",
      "        [0., 0., 0.],\n",
      "        [0., 0., 0.],\n",
      "        [0., 0., 0.],\n",
      "        [0., 0., 0.]], dtype=torch.float16)\n",
      "torch.float16\n"
     ]
    }
   ],
   "source": [
    "# check data type\n",
    "print(x.dtype)\n",
    "\n",
    "# specify types, float32 default\n",
    "x = torch.zeros(5, 3, dtype=torch.float16)\n",
    "print(x)\n",
    "\n",
    "# check type\n",
    "print(x.dtype)"
   ]
  },
  {
   "cell_type": "code",
   "execution_count": 5,
   "metadata": {},
   "outputs": [
    {
     "name": "stdout",
     "output_type": "stream",
     "text": [
      "tensor([5.5000, 3.0000]) torch.float32\n"
     ]
    }
   ],
   "source": [
    "# construct from data ~ reassign\n",
    "x = torch.tensor([5.5, 3])\n",
    "print(x, x.dtype)"
   ]
  },
  {
   "cell_type": "code",
   "execution_count": null,
   "metadata": {},
   "outputs": [],
   "source": [
    "###########################################\n",
    "# IMPORTANT\n",
    "###########################################\n",
    "\n",
    "# requires_grad argument\n",
    "# This will tell pytorch that it will need to calculate the gradients for this tensor\n",
    "# later in your optimization steps\n",
    "# i.e. this is a variable in your model that you want to optimize\n",
    "x = torch.tensor([5.5, 3], requires_grad=True)\n",
    "print(x)"
   ]
  }
 ],
 "metadata": {
  "kernelspec": {
   "display_name": ".venv",
   "language": "python",
   "name": "python3"
  },
  "language_info": {
   "codemirror_mode": {
    "name": "ipython",
    "version": 3
   },
   "file_extension": ".py",
   "mimetype": "text/x-python",
   "name": "python",
   "nbconvert_exporter": "python",
   "pygments_lexer": "ipython3",
   "version": "3.10.7"
  },
  "orig_nbformat": 4
 },
 "nbformat": 4,
 "nbformat_minor": 2
}
